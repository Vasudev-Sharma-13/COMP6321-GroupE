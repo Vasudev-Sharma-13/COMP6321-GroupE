{
 "cells": [
  {
   "cell_type": "markdown",
   "metadata": {},
   "source": [
    "# Import Modules"
   ]
  },
  {
   "cell_type": "code",
   "execution_count": null,
   "metadata": {},
   "outputs": [],
   "source": [
    "from math import ceil\n",
    "import torch\n",
    "from torch.utils.data import Dataset, DataLoader\n",
    "from torchvision import transforms, utils, datasets\n",
    "import os\n",
    "​\n",
    "import matplotlib.pyplot as plt\n",
    "​\n",
    "import torch.utils.data as td\n",
    "import torch.nn as nn\n",
    "import torch.nn.functional as F\n",
    "from matplotlib import image\n",
    "from matplotlib import pyplot\n",
    "from collections import defaultdict\n",
    "​\n",
    "import numpy as np\n",
    "# from scipy.signal import savgol_filter\n",
    "import time\n",
    "from torchvision import models\n",
    "from sklearn.metrics import confusion_matrix, ConfusionMatrixDisplay,classification_report\n",
    "from PIL import Image\n",
    "import numpy as np\n",
    "from sklearn.manifold import TSNE\n",
    "import pickle\n",
    "​\n",
    "import json\n",
    "from PIL import Image as PilImage"
   ]
  },
  {
   "cell_type": "markdown",
   "metadata": {},
   "source": [
    "# Setting Path"
   ]
  },
  {
   "cell_type": "code",
   "execution_count": null,
   "metadata": {},
   "outputs": [],
   "source": [
    "path = new_path = \"/kaggle/input/comp6321-project-datasets/Dataset 2/Dataset 2/Prostate Cancer\"\n",
    "subDirectories = os.listdir(new_path)"
   ]
  },
  {
   "cell_type": "markdown",
   "metadata": {},
   "source": [
    "# Set Device to GPU"
   ]
  },
  {
   "cell_type": "code",
   "execution_count": null,
   "metadata": {},
   "outputs": [],
   "source": [
    "# Set device\n",
    "device = torch.device('cuda' if torch.cuda.is_available() else 'cpu')\n",
    "print(device)"
   ]
  },
  {
   "cell_type": "markdown",
   "metadata": {},
   "source": [
    "# Reading Labels of Dataset"
   ]
  },
  {
   "cell_type": "code",
   "execution_count": null,
   "metadata": {},
   "outputs": [],
   "source": [
    "def read_label(subDirectories):\n",
    "    print(subDirectories)\n",
    "    enu = range(len(subDirectories))\n",
    "    labels_map={}\n",
    "    for enu,subDirectory in enumerate(subDirectories):\n",
    "        labels_map.update({enu:subDirectory})\n",
    "    print(labels_map)\n",
    "    print(\"The number of labels in the dataset = %s\"% len(labels_map))\n",
    "    print(\"The \\'%s\\' device is being used to process the dataset\"%device)\n",
    "    return labels_map"
   ]
  },
  {
   "cell_type": "code",
   "execution_count": null,
   "metadata": {},
   "outputs": [],
   "source": [
    "labels_map = read_label(subDirectories)"
   ]
  },
  {
   "cell_type": "markdown",
   "metadata": {},
   "source": [
    "# Display Dataset Images"
   ]
  },
  {
   "cell_type": "code",
   "execution_count": null,
   "metadata": {},
   "outputs": [],
   "source": [
    "def displayImages(t_dataset,imageFlag):\n",
    "    figure = plt.figure(figsize=(8, 8))\n",
    "    cols, rows = 3, 3\n",
    "    if imageFlag==0:\n",
    "      figure.suptitle(\"Images before preprocessing\")\n",
    "    else:\n",
    "     figure.suptitle(\"Images after preprocessing\")   \n",
    "    for i in range(1, cols * rows + 1):\n",
    "      sample_idx = torch.randint(len(t_dataset), size=(1,)).item()\n",
    "      img, label = t_dataset[sample_idx]\n",
    "      img=np.array(img).transpose((1,2,0))\n",
    "      figure.add_subplot(rows, cols, i)\n",
    "      plt.title(labels_map[label])\n",
    "      plt.axis(\"off\")\n",
    "      plt.imshow(img.squeeze())\n",
    "    print(\"\\n\\n\\n################################################\\n\\n\\n\")\n",
    "    plt.show()"
   ]
  }
 ],
 "metadata": {
  "kernelspec": {
   "display_name": "Python 3",
   "language": "python",
   "name": "python3"
  },
  "language_info": {
   "name": "python",
   "version": "3.10.7"
  },
  "orig_nbformat": 4
 },
 "nbformat": 4,
 "nbformat_minor": 2
}
