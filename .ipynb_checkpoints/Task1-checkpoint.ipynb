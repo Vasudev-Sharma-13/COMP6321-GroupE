{
 "cells": [
  {
   "cell_type": "markdown",
   "id": "3641427b",
   "metadata": {},
   "source": [
    "# Imorting Libraries"
   ]
  },
  {
   "cell_type": "code",
   "execution_count": null,
   "id": "b6dcb994",
   "metadata": {},
   "outputs": [],
   "source": [
    "from math import ceil\n",
    "import torch\n",
    "from torch.utils.data import Dataset, DataLoader\n",
    "from torchvision import transforms, utils, datasets\n",
    "import os\n",
    "\n",
    "import matplotlib.pyplot as plt\n",
    "#import torchvision.transforms as transforms\n",
    "#import torchvision.datasets as datasets\n",
    "import torch.utils.data as td\n",
    "import torch.nn as nn\n",
    "import torch.nn.functional as F\n",
    "from matplotlib import image\n",
    "from matplotlib import pyplot\n",
    "from collections import defaultdict\n",
    "\n",
    "import numpy as np\n",
    "from scipy.signal import savgol_filter\n",
    "import time\n",
    "from torchvision import models\n",
    "from sklearn.metrics import confusion_matrix, ConfusionMatrixDisplay,classification_report\n",
    "from PIL import Image\n",
    "import numpy as np\n",
    "from sklearn.manifold import TSNE\n",
    "import pickle\n",
    "from thop import profile\n",
    "\n",
    "\n",
    "import json\n",
    "from PIL import Image as PilImage"
   ]
  }
 ],
 "metadata": {
  "kernelspec": {
   "display_name": "Python 3 (ipykernel)",
   "language": "python",
   "name": "python3"
  },
  "language_info": {
   "codemirror_mode": {
    "name": "ipython",
    "version": 3
   },
   "file_extension": ".py",
   "mimetype": "text/x-python",
   "name": "python",
   "nbconvert_exporter": "python",
   "pygments_lexer": "ipython3",
   "version": "3.10.9"
  }
 },
 "nbformat": 4,
 "nbformat_minor": 5
}
