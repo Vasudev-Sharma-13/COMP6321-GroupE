{
 "cells": [
  {
   "cell_type": "markdown",
   "id": "f1f15f80",
   "metadata": {},
   "source": [
    "# Importing Libraries"
   ]
  },
  {
   "cell_type": "code",
   "execution_count": 2,
   "id": "c10ed302",
   "metadata": {},
   "outputs": [],
   "source": [
    "from math import ceil\n",
    "import torch\n",
    "from torch.utils.data import Dataset, DataLoader\n",
    "from torchvision import transforms, utils, datasets\n",
    "import os\n",
    "\n",
    "import matplotlib.pyplot as plt\n",
    "#import torchvision.transforms as transforms\n",
    "#import torchvision.datasets as datasets\n",
    "import torch.utils.data as td\n",
    "import torch.nn as nn\n",
    "import torch.nn.functional as F\n",
    "from matplotlib import image\n",
    "from matplotlib import pyplot\n",
    "from collections import defaultdict\n",
    "\n",
    "import numpy as np\n",
    "from scipy.signal import savgol_filter\n",
    "import time\n",
    "from torchvision import models\n",
    "from sklearn.metrics import confusion_matrix, ConfusionMatrixDisplay,classification_report\n",
    "from PIL import Image\n",
    "import numpy as np\n",
    "from sklearn.manifold import TSNE\n",
    "import pickle\n",
    "from thop import profile\n",
    "\n",
    "\n",
    "import json\n",
    "from PIL import Image as PilImage"
   ]
  },
  {
   "cell_type": "markdown",
   "id": "17161db5",
   "metadata": {},
   "source": [
    "# Set GPU & define labels of dataset"
   ]
  },
  {
   "cell_type": "code",
   "execution_count": 12,
   "id": "04bcac66",
   "metadata": {},
   "outputs": [
    {
     "name": "stdout",
     "output_type": "stream",
     "text": [
      "['MUS', 'NORM', 'STR']\n",
      "{0: 'MUS', 1: 'NORM', 2: 'STR'}\n",
      "The number of labels in the dataset = 3\n",
      "The 'cuda' device is being used to process the dataset\n"
     ]
    }
   ],
   "source": [
    "# Set device\n",
    "device = torch.device('cuda' if torch.cuda.is_available() else 'cpu')\n",
    "new_path = \"C:/Users/vshar/Downloads/Dataset 1/Dataset 1/Colorectal Cancer\"\n",
    "subDirectories = os.listdir(new_path)\n",
    "\n",
    "print(subDirectories)\n",
    "\n",
    "enu = range(len(subDirectories))\n",
    "labels_map={}\n",
    "for enu,subDirectory in enumerate(subDirectories):\n",
    "    labels_map.update({enu:subDirectory})\n",
    "print(labels_map)\n",
    "print(\"The number of labels in the dataset = %s\"% len(labels_map))\n",
    "print(\"The \\'%s\\' device is being used to process the dataset\"%device)\n"
   ]
  },
  {
   "cell_type": "markdown",
   "id": "20307aff",
   "metadata": {},
   "source": [
    "# Display Dataset Images"
   ]
  },
  {
   "cell_type": "code",
   "execution_count": null,
   "id": "3ee61aaa",
   "metadata": {},
   "outputs": [],
   "source": [
    "def displayImages(t_dataset,imageFlag):\n",
    "    figure = plt.figure(figsize=(8, 8))\n",
    "    cols, rows = 3, 3\n",
    "    if imageFlag==0:\n",
    "      figure.suptitle(\"Images before preprocessing\")\n",
    "    else:\n",
    "     figure.suptitle(\"Images after preprocessing\")   \n",
    "    for i in range(1, cols * rows + 1):\n",
    "      sample_idx = torch.randint(len(t_dataset), size=(1,)).item()\n",
    "      img, label = t_dataset[sample_idx]\n",
    "      img=np.array(img).transpose((1,2,0))\n",
    "      figure.add_subplot(rows, cols, i)\n",
    "      plt.title(labels_map[label])\n",
    "      plt.axis(\"off\")\n",
    "      plt.imshow(img.squeeze())\n",
    "    print(\"\\n\\n\\n################################################\\n\\n\\n\")\n",
    "    plt.show()"
   ]
  }
 ],
 "metadata": {
  "kernelspec": {
   "display_name": "Python 3 (ipykernel)",
   "language": "python",
   "name": "python3"
  },
  "language_info": {
   "codemirror_mode": {
    "name": "ipython",
    "version": 3
   },
   "file_extension": ".py",
   "mimetype": "text/x-python",
   "name": "python",
   "nbconvert_exporter": "python",
   "pygments_lexer": "ipython3",
   "version": "3.10.9"
  }
 },
 "nbformat": 4,
 "nbformat_minor": 5
}
