{
 "cells": [
  {
   "cell_type": "markdown",
   "id": "654cf72e",
   "metadata": {},
   "source": [
    "# Importing Libraries"
   ]
  },
  {
   "cell_type": "code",
   "execution_count": 2,
   "id": "9948a981",
   "metadata": {},
   "outputs": [],
   "source": [
    "from math import ceil\n",
    "import torch\n",
    "from torch.utils.data import Dataset, DataLoader\n",
    "from torchvision import transforms, utils, datasets\n",
    "import os\n",
    "\n",
    "import matplotlib.pyplot as plt\n",
    "#import torchvision.transforms as transforms\n",
    "#import torchvision.datasets as datasets\n",
    "import torch.utils.data as td\n",
    "import torch.nn as nn\n",
    "import torch.nn.functional as F\n",
    "from matplotlib import image\n",
    "from matplotlib import pyplot\n",
    "from collections import defaultdict\n",
    "\n",
    "import numpy as np\n",
    "from scipy.signal import savgol_filter\n",
    "import time\n",
    "from torchvision import models\n",
    "from sklearn.metrics import confusion_matrix, ConfusionMatrixDisplay,classification_report\n",
    "from PIL import Image\n",
    "import numpy as np\n",
    "from sklearn.manifold import TSNE\n",
    "import pickle\n",
    "from thop import profile\n",
    "\n",
    "\n",
    "import json\n",
    "from PIL import Image as PilImage"
   ]
  },
  {
   "cell_type": "markdown",
   "id": "efe5a3bd",
   "metadata": {},
   "source": [
    "# Set GPU & define labels of dataset"
   ]
  },
  {
   "cell_type": "code",
   "execution_count": 7,
   "id": "00945f2a",
   "metadata": {},
   "outputs": [
    {
     "name": "stdout",
     "output_type": "stream",
     "text": [
      "The number of labels in the dataset = 28\n",
      "The 'cuda' device is being used to process the dataset\n"
     ]
    }
   ],
   "source": [
    "\n",
    "\n",
    "# Set device\n",
    "device = torch.device('cuda' if torch.cuda.is_available() else 'cpu')\n",
    "labels_map = {\n",
    "      0: \"A\",\n",
    "      1: \"B\",\n",
    "      2: \"C\",\n",
    "      3: \"D\",\n",
    "      4: \"E\",\n",
    "      5: \"F\",\n",
    "      6: \"G\",\n",
    "      7: \"H\",\n",
    "      8: \"I\",\n",
    "      9: \"J\",\n",
    "      10: \"K\",\n",
    "      11: \"L\",\n",
    "      12: \"M\",\n",
    "      13: \"N\",\n",
    "      14: \"Nothing\",\n",
    "      15: \"O\",\n",
    "      16: \"P\",\n",
    "      17: \"Q\",\n",
    "      18: \"R\",\n",
    "      19: \"S\",\n",
    "      20: \"Space\",\n",
    "      21: \"T\",\n",
    "      22: \"U\",\n",
    "      23: \"V\",\n",
    "      24: \"W\",\n",
    "      25: \"X\",\n",
    "      26: \"Y\",\n",
    "      27: \"Z\",\n",
    "      \n",
    "\n",
    "\n",
    "}\n",
    "print(\"The number of labels in the dataset = %s\"% len(labels_map))\n",
    "print(\"The \\'%s\\' device is being used to process the dataset\"%device)\n"
   ]
  },
  {
   "cell_type": "code",
   "execution_count": null,
   "id": "6256b5f2",
   "metadata": {},
   "outputs": [],
   "source": []
  }
 ],
 "metadata": {
  "kernelspec": {
   "display_name": "Python 3 (ipykernel)",
   "language": "python",
   "name": "python3"
  },
  "language_info": {
   "codemirror_mode": {
    "name": "ipython",
    "version": 3
   },
   "file_extension": ".py",
   "mimetype": "text/x-python",
   "name": "python",
   "nbconvert_exporter": "python",
   "pygments_lexer": "ipython3",
   "version": "3.10.9"
  }
 },
 "nbformat": 4,
 "nbformat_minor": 5
}
